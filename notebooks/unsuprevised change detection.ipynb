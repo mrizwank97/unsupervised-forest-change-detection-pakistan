{
 "cells": [
  {
   "cell_type": "code",
   "execution_count": 44,
   "metadata": {},
   "outputs": [],
   "source": [
    "import os\n",
    "import cv2\n",
    "import random\n",
    "import matplotlib\n",
    "import numpy as np\n",
    "import matplotlib.pyplot as plt\n",
    "import tensorflow as tf\n",
    "from keras.models import Model\n",
    "from keras.layers import Input, BatchNormalization, Activation, Dropout\n",
    "from keras.layers.convolutional import Conv2D, Conv2DTranspose\n",
    "from keras.layers.pooling import MaxPooling2D\n",
    "from keras.layers.merge import concatenate\n",
    "from keras.callbacks import EarlyStopping, ReduceLROnPlateau, ModelCheckpoint\n",
    "from keras.optimizers import Adam\n",
    "from skimage.io import imread\n",
    "from glob import glob"
   ]
  },
  {
   "cell_type": "code",
   "execution_count": 9,
   "metadata": {},
   "outputs": [],
   "source": [
    "def conv2d_block(input_tensor, n_filters, kernel_size=3, batchnorm=True):\n",
    "    # first layers\n",
    "    x = Conv2D(filters=n_filters, kernel_size=(kernel_size, kernel_size),\n",
    "               kernel_initializer=\"he_normal\", padding=\"same\")(input_tensor)\n",
    "    if batchnorm:\n",
    "        x = BatchNormalization()(x)\n",
    "    x = Activation(\"relu\")(x)\n",
    "    # second layer\n",
    "    x = Conv2D(filters=n_filters, kernel_size=(kernel_size, kernel_size),\n",
    "               kernel_initializer=\"he_normal\", padding=\"same\")(x)\n",
    "    if batchnorm:\n",
    "        x = BatchNormalization()(x)\n",
    "    x = Activation(\"relu\")(x)\n",
    "    return x\n",
    "\n",
    "\n",
    "num_classes = 6\n",
    "im_height = 256\n",
    "im_width = 256"
   ]
  },
  {
   "cell_type": "code",
   "execution_count": 10,
   "metadata": {},
   "outputs": [],
   "source": [
    "def get_unet(input_img, n_filters=16, dropout=0.5, batchnorm=True):\n",
    "    # contracting path\n",
    "    c1 = conv2d_block(input_img, n_filters=n_filters * 1, kernel_size=3,\n",
    "                      batchnorm=batchnorm)\n",
    "    p1 = MaxPooling2D((2, 2))(c1)\n",
    "    p1 = Dropout(dropout * 0.5)(p1)\n",
    "\n",
    "    c2 = conv2d_block(p1, n_filters=n_filters * 2, kernel_size=3,\n",
    "                      batchnorm=batchnorm)\n",
    "    p2 = MaxPooling2D((2, 2))(c2)\n",
    "    p2 = Dropout(dropout)(p2)\n",
    "\n",
    "    c3 = conv2d_block(p2, n_filters=n_filters * 4, kernel_size=3,\n",
    "                      batchnorm=batchnorm)\n",
    "    p3 = MaxPooling2D((2, 2))(c3)\n",
    "    p3 = Dropout(dropout)(p3)\n",
    "\n",
    "    c4 = conv2d_block(p3, n_filters=n_filters * 8, kernel_size=3,\n",
    "                      batchnorm=batchnorm)\n",
    "    p4 = MaxPooling2D((2, 2))(c4)\n",
    "    p4 = Dropout(dropout)(p4)\n",
    "\n",
    "    c5 = conv2d_block(p4, n_filters=n_filters * 16, kernel_size=3,\n",
    "                      batchnorm=batchnorm)\n",
    "\n",
    "    # expansive path\n",
    "    u6 = Conv2DTranspose(n_filters * 8, (3, 3), strides=(2, 2),\n",
    "                         padding=\"same\")(c5)\n",
    "    u6 = concatenate([u6, c4])\n",
    "    u6 = Dropout(dropout)(u6)\n",
    "    c6 = conv2d_block(u6, n_filters=n_filters * 8, kernel_size=3,\n",
    "                      batchnorm=batchnorm)\n",
    "\n",
    "    u7 = Conv2DTranspose(n_filters * 4, (3, 3), strides=(2, 2),\n",
    "                         padding=\"same\")(c6)\n",
    "    u7 = concatenate([u7, c3])\n",
    "    u7 = Dropout(dropout)(u7)\n",
    "    c7 = conv2d_block(u7, n_filters=n_filters * 4, kernel_size=3,\n",
    "                      batchnorm=batchnorm)\n",
    "\n",
    "    u8 = Conv2DTranspose(n_filters * 2, (3, 3), strides=(2, 2),\n",
    "                         padding=\"same\")(c7)\n",
    "    u8 = concatenate([u8, c2])\n",
    "    u8 = Dropout(dropout)(u8)\n",
    "    c8 = conv2d_block(u8, n_filters=n_filters * 2, kernel_size=3,\n",
    "                      batchnorm=batchnorm)\n",
    "\n",
    "    u9 = Conv2DTranspose(n_filters * 1, (3, 3), strides=(2, 2),\n",
    "                         padding=\"same\")(c8)\n",
    "    u9 = concatenate([u9, c1], axis=3)\n",
    "    u9 = Dropout(dropout)(u9)\n",
    "    c9 = conv2d_block(u9, n_filters=n_filters * 1, kernel_size=3,\n",
    "                      batchnorm=batchnorm)\n",
    "\n",
    "    outputs = Conv2D(num_classes, (1, 1), activation=\"softmax\")(c9)\n",
    "    model = Model(inputs=[input_img], outputs=[outputs])\n",
    "    return model\n",
    "\n",
    "\n",
    "input_img = Input(shape=(im_height, im_width, 3), name=\"img\")\n",
    "model = get_unet(input_img, n_filters=16, dropout=0.05, batchnorm=True)\n",
    "\n",
    "model.compile(optimizer=Adam(),loss=\"categorical_crossentropy\",metrics=[\"acc\"])"
   ]
  },
  {
   "cell_type": "code",
   "execution_count": 11,
   "metadata": {},
   "outputs": [],
   "source": [
    "model.load_weights('../models/unet-model-100.h5')"
   ]
  },
  {
   "cell_type": "code",
   "execution_count": 69,
   "metadata": {},
   "outputs": [],
   "source": [
    "files = glob('../png'+'/**'+'/*.png')\n",
    "img1 = np.array(imread(files[4]))\n",
    "img1 = np.reshape(img1,(1,256,256,3))\n",
    "r1 = model.predict(img1)\n",
    "r1 = np.reshape(r1,(256,256,6))\n",
    "r1[r1>=.5]=1\n",
    "r1[r1<.5]=0\n",
    "img2 = np.array(imread(files[10]))\n",
    "img2 = np.reshape(img2,(1,256,256,3))\n",
    "r2 = model.predict(img2)\n",
    "r2 = np.reshape(r2,(256,256,6))\n",
    "r2[r2>=.5]=1\n",
    "r2[r2<.5]=0\n",
    "d = np.linalg.norm(r1-r2,axis=2)"
   ]
  },
  {
   "cell_type": "code",
   "execution_count": 70,
   "metadata": {},
   "outputs": [
    {
     "data": {
      "image/png": "[encoded data removed]",
      "text/plain": [
       "<Figure size 432x288 with 1 Axes>"
      ]
     },
     "metadata": {
      "needs_background": "light"
     },
     "output_type": "display_data"
    }
   ],
   "source": [
    "plt.imshow(d,cmap='gray')\n",
    "plt.axis('off')\n",
    "plt.title('Difference Image of 2018 & 2019')\n",
    "plt.show()"
   ]
  },
  {
   "cell_type": "code",
   "execution_count": 71,
   "metadata": {},
   "outputs": [],
   "source": [
    "K = 2\n",
    "attempts=10\n",
    "v = d.reshape((256**2,1))\n",
    "v = np.float32(v)\n",
    "criteria = (cv2.TERM_CRITERIA_EPS + cv2.TERM_CRITERIA_MAX_ITER, 10, 1.0)\n",
    "ret,label,center=cv2.kmeans(v,K,None,criteria,attempts,cv2.KMEANS_PP_CENTERS)\n",
    "center = np.uint8(center)\n",
    "res = center[label.flatten()]\n",
    "rimg = res.reshape((d.shape))"
   ]
  },
  {
   "cell_type": "code",
   "execution_count": 72,
   "metadata": {},
   "outputs": [
    {
     "data": {
      "image/png": "[encoded data removed]",
      "text/plain": [
       "<Figure size 432x288 with 1 Axes>"
      ]
     },
     "metadata": {
      "needs_background": "light"
     },
     "output_type": "display_data"
    }
   ],
   "source": [
    "plt.imshow(rimg,cmap='gray')\n",
    "plt.axis('off')\n",
    "plt.title('Change Map')\n",
    "plt.show()"
   ]
  }
 ],
 "metadata": {
  "kernelspec": {
   "display_name": "Python 3",
   "language": "python",
   "name": "python3"
  },
  "language_info": {
   "codemirror_mode": {
    "name": "ipython",
    "version": 3
   },
   "file_extension": ".py",
   "mimetype": "text/x-python",
   "name": "python",
   "nbconvert_exporter": "python",
   "pygments_lexer": "ipython3",
   "version": "3.7.6"
  }
 },
 "nbformat": 4,
 "nbformat_minor": 4
}
